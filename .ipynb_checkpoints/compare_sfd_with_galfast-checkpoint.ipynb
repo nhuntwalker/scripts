{
 "metadata": {
  "name": ""
 },
 "nbformat": 3,
 "nbformat_minor": 0,
 "worksheets": [
  {
   "cells": [
    {
     "cell_type": "code",
     "collapsed": false,
     "input": [
      "import numpy as np\n",
      "import matplotlib.pyplot as plt\n",
      "import os\n",
      "from astroML.stats import binned_statistic_2d"
     ],
     "language": "python",
     "metadata": {},
     "outputs": [],
     "prompt_number": 1
    },
    {
     "cell_type": "code",
     "collapsed": false,
     "input": [
      "os.chdir('/Users/Nick/Documents/AGBstuff/workstation/allwise_reboot/bulgetest')\n",
      "infile1 = 'bulge_ebvs_galfast.dat'\n",
      "infile2 = 'idlouts/all_ebvs.dat'"
     ],
     "language": "python",
     "metadata": {},
     "outputs": [],
     "prompt_number": 2
    },
    {
     "cell_type": "code",
     "collapsed": false,
     "input": [
      "# gall_gf, galb_gf, ebvs_gf = np.loadtxt(infile1, unpack=True)\n",
      "# gall_sfd, galb_sfd, ebvs_sfd = np.loadtxt(infile2, unpack=True)\n",
      "data = open(infile1).readlines()"
     ],
     "language": "python",
     "metadata": {},
     "outputs": [],
     "prompt_number": 4
    },
    {
     "cell_type": "code",
     "collapsed": false,
     "input": [
      "len(data)"
     ],
     "language": "python",
     "metadata": {},
     "outputs": [
      {
       "metadata": {},
       "output_type": "pyout",
       "prompt_number": 6,
       "text": [
        "1"
       ]
      }
     ],
     "prompt_number": 6
    },
    {
     "cell_type": "code",
     "collapsed": false,
     "input": [],
     "language": "python",
     "metadata": {},
     "outputs": []
    }
   ],
   "metadata": {}
  }
 ]
}