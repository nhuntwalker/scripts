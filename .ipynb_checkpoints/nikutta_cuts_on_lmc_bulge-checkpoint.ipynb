{
 "metadata": {
  "name": ""
 },
 "nbformat": 3,
 "nbformat_minor": 0,
 "worksheets": [
  {
   "cells": [
    {
     "cell_type": "code",
     "collapsed": false,
     "input": [
      "from sklearn.mixture import GMM\n",
      "from scipy import linalg\n",
      "from scipy.stats import norm\n",
      "import matplotlib\n",
      "from matplotlib.patches import Ellipse\n",
      "\n",
      "%matplotlib inline\n",
      "import matplotlib.pyplot as plt\n",
      "import numpy as np\n",
      "import os\n",
      "\n",
      "matplotlib.rcParams['ps.useafm'] = True\n",
      "matplotlib.rcParams['pdf.use14corefonts'] = True\n",
      "matplotlib.rcParams['text.usetex'] = True\n",
      "\n",
      "os.chdir('../scripts')"
     ],
     "language": "python",
     "metadata": {},
     "outputs": [],
     "prompt_number": 1
    },
    {
     "cell_type": "code",
     "collapsed": false,
     "input": [
      "f3 = '../selected_known_agbs/known_agbs_selected.dat'\n",
      "alldata = np.loadtxt(f3, usecols = (range(29)), unpack = True)"
     ],
     "language": "python",
     "metadata": {},
     "outputs": [],
     "prompt_number": 2
    },
    {
     "cell_type": "code",
     "collapsed": false,
     "input": [
      "catid,ra,decl,gall,galb,w1,w2,w3,w4,w1err,w2err,w3err,w4err,w1snr,w2snr,w3snr,w4snr,j,h,k,jerr,herr,kerr,mrad,coljk,colk3,col12,col23,col34 = alldata"
     ],
     "language": "python",
     "metadata": {},
     "outputs": [],
     "prompt_number": 4
    },
    {
     "cell_type": "code",
     "collapsed": false,
     "input": [
      "def select_lmc_stars(ra,decl,gall,galb):\n",
      "    lmc_ra = 80.8917\n",
      "    lmc_dec = -69.7561\n",
      "    n_deg = 5.\n",
      "    DM_lmc = 18.32\n",
      "    \n",
      "    rad = ((ra - lmc_ra)/3.5)**2. + ((decl - lmc_dec)/1.5)**2.\n",
      "    lmc = np.where((rad < n_deg) & (galb < -20))\n",
      "    return lmc\n",
      "   \n",
      "def select_bulge_stars(gall,galb):\n",
      "    DM_bulge = 14.52\n",
      "    glons = gall\n",
      "    glons[glons > 180] = glons[glons > 180] - 360\n",
      "    bulge = np.where((abs(glons) < 10) & (abs(galb) > 1) & (abs(galb) < 5))"
     ],
     "language": "python",
     "metadata": {},
     "outputs": [
      {
       "metadata": {},
       "output_type": "pyout",
       "prompt_number": 5,
       "text": [
        "array([   2.,    4.,   19.,   25.,   39.,   40.,   44.,   53.,   88.,  103.])"
       ]
      }
     ],
     "prompt_number": 5
    },
    {
     "cell_type": "code",
     "collapsed": false,
     "input": [],
     "language": "python",
     "metadata": {},
     "outputs": []
    }
   ],
   "metadata": {}
  }
 ]
}