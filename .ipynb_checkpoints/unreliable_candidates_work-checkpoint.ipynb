{
 "metadata": {
  "name": ""
 },
 "nbformat": 3,
 "nbformat_minor": 0,
 "worksheets": [
  {
   "cells": [
    {
     "cell_type": "markdown",
     "metadata": {},
     "source": [
      "Author: Nicholas Hunt-Walker\n",
      "\n",
      "<b>Origin Date:</b> 7/3/2014\n",
      "\n",
      "With this we classify and analyze unreliable candidates in the same way as \"classify_and_plot_known_agb_stars.ipynb\".\n",
      "\n",
      "First, classification."
     ]
    },
    {
     "cell_type": "code",
     "collapsed": false,
     "input": [
      "from sklearn.mixture import GMM\n",
      "from scipy import linalg\n",
      "from scipy.stats import norm\n",
      "import matplotlib\n",
      "from matplotlib.patches import Ellipse\n",
      "\n",
      "%matplotlib inline\n",
      "import matplotlib.pyplot as plt\n",
      "import numpy as np\n",
      "import os\n",
      "\n",
      "matplotlib.rcParams['ps.useafm'] = True\n",
      "matplotlib.rcParams['pdf.use14corefonts'] = True\n",
      "matplotlib.rcParams['text.usetex'] = True\n",
      "\n",
      "os.chdir('../scripts')"
     ],
     "language": "python",
     "metadata": {},
     "outputs": [],
     "prompt_number": 1
    },
    {
     "cell_type": "code",
     "collapsed": false,
     "input": [
      "# column titles: catid,coljk,colk3,col12,col23,col34,stype,o/c class)\n",
      "# for the moment, we only want w1-w2, w2-w3, w3-w4, and o/c class\n",
      "f1 = '../selected_known_agbs/SIMBAD_c_rich_testset.dat'\n",
      "f2 = '../selected_known_agbs/SIMBAD_o_rich_testset.dat'\n",
      "\n",
      "## ==========================\n",
      "## Choose my dimensions here\n",
      "## ==========================\n",
      "data1 = np.loadtxt(f1, usecols = (3,4,5,7))\n",
      "data2 = np.loadtxt(f2, usecols = (3,4,5,7))"
     ],
     "language": "python",
     "metadata": {},
     "outputs": [],
     "prompt_number": 2
    },
    {
     "cell_type": "code",
     "collapsed": false,
     "input": [
      "X1 = data1[:, :-1] ## C-rich\n",
      "X2 = data2[:, :-1] ## O-rich\n",
      "\n",
      "y1 = data1[:,-1]\n",
      "y2 = data2[:,-1]\n",
      "\n",
      "X = np.concatenate((X1,X2))\n",
      "y = np.concatenate((y1,y2))\n",
      "\n",
      "col12min = min(X[:,0])\n",
      "col12max = max(X[:,0])\n",
      "\n",
      "col23min = min(X[:,1])\n",
      "col23max = max(X[:,1])\n",
      "\n",
      "col34min = min(X[:,2])\n",
      "col34max = max(X[:,2])\n",
      "\n",
      "xlim = (col12min, col12max) \n",
      "ylim = (col23min, col23max)\n",
      "zlim = (col34min, col34max)"
     ],
     "language": "python",
     "metadata": {},
     "outputs": [],
     "prompt_number": 3
    },
    {
     "cell_type": "code",
     "collapsed": false,
     "input": [
      "n_classes = len(np.unique(y))\n",
      "\n",
      "clf = GMM(n_components = n_classes, covariance_type='full', \n",
      "          init_params=\"wc\", n_iter=1)"
     ],
     "language": "python",
     "metadata": {},
     "outputs": [],
     "prompt_number": 4
    },
    {
     "cell_type": "code",
     "collapsed": false,
     "input": [
      "clf.means_ = np.array([X[y == i].mean(axis=0) for i in xrange(n_classes)])\n",
      "clf.fit(X)"
     ],
     "language": "python",
     "metadata": {},
     "outputs": [
      {
       "metadata": {},
       "output_type": "pyout",
       "prompt_number": 5,
       "text": [
        "GMM(covariance_type='full', init_params='wc', min_covar=0.001, n_components=2,\n",
        "  n_init=1, n_iter=1, params='wmc', random_state=None, thresh=0.01)"
       ]
      }
     ],
     "prompt_number": 5
    },
    {
     "cell_type": "heading",
     "level": 3,
     "metadata": {},
     "source": [
      "We have our classifier now. Let's look at some distributions..."
     ]
    },
    {
     "cell_type": "code",
     "collapsed": false,
     "input": [
      "import pandas as pd\n",
      "from pandas import DataFrame\n",
      "from pandas import Series"
     ],
     "language": "python",
     "metadata": {},
     "outputs": [],
     "prompt_number": 6
    },
    {
     "cell_type": "code",
     "collapsed": false,
     "input": [
      "candidates_in = '../unreliable_candidates/agbcandidates_ALLWISE_unreliable.dat'\n",
      "data = pd.read_csv(candidates_in)"
     ],
     "language": "python",
     "metadata": {},
     "outputs": [],
     "prompt_number": 7
    },
    {
     "cell_type": "code",
     "collapsed": false,
     "input": [
      "coljk = data.j - data.k\n",
      "colk1 = data.k - data.w1\n",
      "colk3 = data.k - data.w3\n",
      "col12 = data.w1 - data.w2\n",
      "col23 = data.w2 - data.w3\n",
      "col34 = data.w3 - data.w4"
     ],
     "language": "python",
     "metadata": {},
     "outputs": [],
     "prompt_number": 8
    },
    {
     "cell_type": "code",
     "collapsed": false,
     "input": [
      "H, xed, yed = np.histogram2d(data.gall, data.galb,bins=150)\n",
      "extent = [xed[0],xed[-1],yed[0],yed[-1]]"
     ],
     "language": "python",
     "metadata": {},
     "outputs": [],
     "prompt_number": 9
    },
    {
     "cell_type": "code",
     "collapsed": false,
     "input": [
      "plt.imshow(np.log10(H.T), extent=extent, origin='lower', interpolation='nearest', aspect='auto')\n",
      "plt.show()"
     ],
     "language": "python",
     "metadata": {},
     "outputs": [
      {
       "metadata": {},
       "output_type": "display_data",
       "png": "[encoded data removed]",
       "text": [
        "<matplotlib.figure.Figure at 0x109c3cfd0>"
       ]
      }
     ],
     "prompt_number": 10
    },
    {
     "cell_type": "code",
     "collapsed": false,
     "input": [
      "Xcands = np.array((col12,col23,col34)).T"
     ],
     "language": "python",
     "metadata": {},
     "outputs": [],
     "prompt_number": 11
    },
    {
     "cell_type": "code",
     "collapsed": false,
     "input": [
      "ycands = clf.predict(Xcands)"
     ],
     "language": "python",
     "metadata": {},
     "outputs": [],
     "prompt_number": 12
    },
    {
     "cell_type": "code",
     "collapsed": false,
     "input": [
      "def spectype_relation(coljk, colk3, col12, col23, col34, stype, relation):\n",
      "    absw1 = np.zeros((len(stype),5))\n",
      "    if relation == 'lmc':\n",
      "        orich = np.array([[-8.67,-0.02],[-8.65,-0.04],[-8.39,-0.64],[-9.44,0.22],[-8.76,0.07]])\n",
      "        crich = np.array([[-8.52,-0.10],[-8.98,0.03],[-8.48,-0.44],[-9.18,0.14],[-9.11,0.38]])\n",
      "        \n",
      "    if relation == 'bulge':\n",
      "        orich = np.array([[-7.70,0.12],[-6.93,-0.33],[-7.08,-1.68],[-7.97,0.37],[-6.97,-0.74]])\n",
      "        crich = np.array([[-7.60,0.08],[-7.43,0.02],[-6.92,-1.77],[-7.55,0.14],[-6.92,-0.55]])\n",
      "\n",
      "    xvars = np.array([coljk, colk3, col12, col23, col34])\n",
      "    for ii in range(len(xvars)):\n",
      "        absw1[stype == 0,ii] = orich[ii,0] + orich[ii,1]*xvars[ii,stype==0]## w1 vs colk3\n",
      "        absw1[stype == 1,ii] = crich[ii,0] + crich[ii,1]*xvars[ii,stype==1]## w1 vs colk3\n",
      "\n",
      "    return absw1"
     ],
     "language": "python",
     "metadata": {},
     "outputs": [],
     "prompt_number": 34
    },
    {
     "cell_type": "code",
     "collapsed": false,
     "input": [
      "absw1 = spectype_relation(coljk, colk3, col12, col23, col34, ycands, relation='bulge')"
     ],
     "language": "python",
     "metadata": {},
     "outputs": [],
     "prompt_number": 35
    },
    {
     "cell_type": "code",
     "collapsed": false,
     "input": [
      "plt.scatter(col23[ycands == 0], absw1[ycands == 0,0], c='g', s=1, edgecolor='none')\n",
      "plt.scatter(col23[ycands == 1], absw1[ycands == 1,0], c='k', s=1, edgecolor='none')\n",
      "\n",
      "plt.ylim(-4,-10)\n",
      "plt.show()"
     ],
     "language": "python",
     "metadata": {},
     "outputs": [
      {
       "metadata": {},
       "output_type": "display_data",
       "png": "[encoded data removed]",
       "text": [
        "<matplotlib.figure.Figure at 0x11284edd0>"
       ]
      }
     ],
     "prompt_number": 28
    },
    {
     "cell_type": "code",
     "collapsed": false,
     "input": [
      "absw1 = absw1.mean(axis=1)"
     ],
     "language": "python",
     "metadata": {},
     "outputs": [],
     "prompt_number": 40
    },
    {
     "cell_type": "code",
     "collapsed": false,
     "input": [
      "## Create file for use in calculating distance and dust\n",
      "outdir = '../unreliable_candidates/'\n",
      "outfile = outdir+'unreliable_candidates_fordust.dat'\n",
      "\n",
      "fout = open(outfile,'w')\n",
      "fmt = '%i %g %g %g %g %g %g %g %g %g %g %g %g %g %g %g %g %g\\n'\n",
      "\n",
      "for ii in range(len(data)):\n",
      "    fout.write(fmt % (ii,data.ra[ii],data.dec[ii],data.gall[ii],data.galb[ii],\n",
      "                      data.w1[ii],data.w2[ii],data.w3[ii],data.w4[ii],\n",
      "                      data.w1err[ii],data.w2err[ii],data.w3err[ii],data.w4err[ii],\n",
      "                      data.j[ii],data.h[ii],data.k[ii],absw1[ii],ycands[ii]))\n",
      "    \n",
      "fout.close()"
     ],
     "language": "python",
     "metadata": {},
     "outputs": [],
     "prompt_number": 41
    },
    {
     "cell_type": "heading",
     "level": 3,
     "metadata": {},
     "source": [
      "Unreliable Candidates have been Classified and have had their Dust and Distances Estimated.  Proceed."
     ]
    },
    {
     "cell_type": "code",
     "collapsed": false,
     "input": [
      "## each infile has the following columns:\n",
      "##\n",
      "## wid,ra,decl,gall,galb\n",
      "## w1,w2,w3,w4,w1err,w2err,w3err,w4err\n",
      "## j,h,k\n",
      "## Mw1, Star Type, E(B-V)\n",
      "\n",
      "data_dir = '/Users/Nick/Documents/AGBstuff/workstation/allwise_reboot/unreliable_candidates/unreliables_out/'\n",
      "infiles = [data_dir+f for f in os.listdir(data_dir) if f.endswith('.dat')]\n",
      "\n",
      "n = len(infiles)\n",
      "\n",
      "wcnt = []\n",
      "ra = []\n",
      "decl = []\n",
      "gall = []\n",
      "galb = []\n",
      "w1 = []\n",
      "w2 = []\n",
      "w3 = []\n",
      "w4 = []\n",
      "w1err = []\n",
      "w2err = []\n",
      "w3err = []\n",
      "w4err = []\n",
      "j = []\n",
      "h = []\n",
      "k = []\n",
      "jerr = []\n",
      "herr = []\n",
      "kerr = []\n",
      "absw1 = []\n",
      "stype = []\n",
      "ebvs = []\n",
      "\n",
      "for i in range(len(infiles)):\n",
      "    data = np.loadtxt(infiles[i], unpack=True)\n",
      "    if len(data) > 0:\n",
      "        wcnt.append(data[0])\n",
      "        ra.append(data[1])\n",
      "        decl.append(data[2])\n",
      "        gall.append(data[3])\n",
      "        galb.append(data[4])\n",
      "        w1.append(data[5])\n",
      "        w2.append(data[6])\n",
      "        w3.append(data[7])\n",
      "        w4.append(data[8])\n",
      "        w1err.append(data[9])\n",
      "        w2err.append(data[10])\n",
      "        w3err.append(data[11])\n",
      "        w4err.append(data[12])\n",
      "        j.append(data[13])\n",
      "        h.append(data[14])\n",
      "        k.append(data[15])\n",
      "        jerr.append(data[16])\n",
      "        herr.append(data[17])\n",
      "        kerr.append(data[18])\n",
      "        absw1.append(data[19])\n",
      "        stype.append(data[20])\n",
      "        ebvs.append(data[21])\n",
      "\n",
      "    \n",
      "wcnt = np.concatenate(wcnt)\n",
      "ra = np.concatenate(ra)\n",
      "decl = np.concatenate(decl)\n",
      "gall = np.concatenate(gall)\n",
      "galb = np.concatenate(galb)\n",
      "w1 = np.concatenate(w1)\n",
      "w2 = np.concatenate(w2)\n",
      "w3 = np.concatenate(w3)\n",
      "w4 = np.concatenate(w4)\n",
      "w1err = np.concatenate(w1err)\n",
      "w2err = np.concatenate(w2err)\n",
      "w3err = np.concatenate(w3err)\n",
      "w4err = np.concatenate(w4err)\n",
      "w1snr = np.concatenate(w1snr)\n",
      "w2snr = np.concatenate(w2snr)\n",
      "w3snr = np.concatenate(w3snr)\n",
      "w4snr = np.concatenate(w4snr)\n",
      "j = np.concatenate(j)\n",
      "h = np.concatenate(h)\n",
      "k = np.concatenate(k)\n",
      "jerr = np.concatenate(jerr)\n",
      "herr = np.concatenate(herr)\n",
      "kerr = np.concatenate(kerr)\n",
      "coljk = np.concatenate(coljk)\n",
      "colk3 = np.concatenate(colk3)\n",
      "col12 = np.concatenate(col12)\n",
      "col23 = np.concatenate(col23)\n",
      "col34 = np.concatenate(col34)\n",
      "absw1 = np.concatenate(absw1)\n",
      "ebvs = np.concatenate(ebvs)"
     ],
     "language": "python",
     "metadata": {},
     "outputs": []
    }
   ],
   "metadata": {}
  }
 ]
}