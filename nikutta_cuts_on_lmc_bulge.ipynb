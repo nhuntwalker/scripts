{
 "metadata": {
  "name": ""
 },
 "nbformat": 3,
 "nbformat_minor": 0,
 "worksheets": [
  {
   "cells": [
    {
     "cell_type": "code",
     "collapsed": false,
     "input": [
      "from sklearn.mixture import GMM\n",
      "from scipy import linalg\n",
      "from scipy.stats import norm\n",
      "import matplotlib\n",
      "from matplotlib.patches import Ellipse\n",
      "from pandas import DataFrame\n",
      "import pandas as pd\n",
      "\n",
      "%matplotlib inline\n",
      "import matplotlib.pyplot as plt\n",
      "import numpy as np\n",
      "import os\n",
      "\n",
      "matplotlib.rcParams['ps.useafm'] = True\n",
      "matplotlib.rcParams['pdf.use14corefonts'] = True\n",
      "matplotlib.rcParams['text.usetex'] = True\n",
      "\n",
      "os.chdir('../scripts')"
     ],
     "language": "python",
     "metadata": {},
     "outputs": [],
     "prompt_number": 9
    },
    {
     "cell_type": "code",
     "collapsed": false,
     "input": [
      "f3 = '../selected_known_agbs/known_agbs_selected.dat'\n",
      "alldata = np.loadtxt(f3, usecols = (range(29)), unpack = True)"
     ],
     "language": "python",
     "metadata": {},
     "outputs": [],
     "prompt_number": 2
    },
    {
     "cell_type": "code",
     "collapsed": false,
     "input": [
      "catid,ra,decl,gall,galb,w1,w2,w3,w4,w1err,w2err,w3err,w4err,w1snr,w2snr,w3snr,w4snr,j,h,k,jerr,herr,kerr,mrad,coljk,colk3,col12,col23,col34 = alldata"
     ],
     "language": "python",
     "metadata": {},
     "outputs": [],
     "prompt_number": 4
    },
    {
     "cell_type": "code",
     "collapsed": false,
     "input": [
      "## Define some functions\n",
      "def get_lmc_stars(ra,decl,gall,galb):\n",
      "    lmc_ra = 80.8917\n",
      "    lmc_dec = -69.7561\n",
      "    n_deg = 5.\n",
      "    DM_lmc = 18.32\n",
      "    \n",
      "    rad = ((ra - lmc_ra)/3.5)**2. + ((decl - lmc_dec)/1.5)**2.\n",
      "    lmc = np.where((rad <= n_deg) & (galb < -20))[0]\n",
      "    return lmc\n",
      "   \n",
      "def get_bulge_stars(gall,galb):\n",
      "    DM_bulge = 14.52\n",
      "    glons = gall\n",
      "    glons[glons > 180] = glons[glons > 180] - 360\n",
      "    bulge = np.where((abs(glons) < 10) & (abs(galb) > 1) & (abs(galb) < 5))[0]\n",
      "    return bulge\n",
      "\n",
      "def get_orich_stars(w1,w2,w3,w4):\n",
      "    col12 = w1-w2\n",
      "    col23 = w2-w3\n",
      "    col34 = w3-w4\n",
      "    \n",
      "    fullcut = np.where((col12 < 2.) & (col12 > 0.2) & (col23 > 0.4) & (col23 < 2.2) & (col34 > 0) &\n",
      "\t\t\t\t(col34 < 1.3) & (col34 > 0.722*col23 - 0.289))[0]\n",
      "    \n",
      "    return fullcut\n",
      "\n",
      "def get_crich_stars(w1,w2,w3,w4):\n",
      "    col12 = w1-w2\n",
      "    col23 = w2-w3\n",
      "    col34 = w3-w4\n",
      "\n",
      "    fullcut = np.where((col12 > 0.629*col23 - 0.198) & (col12 < 0.629*col23 + 0.359) &\n",
      "\t\t\t\t(col34 > 0.722*col23 - 0.911) & (col34 < 0.722*col23 - 0.289))[0]\n",
      "\n",
      "    return fullcut"
     ],
     "language": "python",
     "metadata": {},
     "outputs": [],
     "prompt_number": 19
    },
    {
     "cell_type": "code",
     "collapsed": false,
     "input": [
      "lmc = get_lmc_stars(ra, decl, gall, galb)\n",
      "bulge = get_bulge_stars(gall, galb)"
     ],
     "language": "python",
     "metadata": {},
     "outputs": [],
     "prompt_number": 20
    },
    {
     "cell_type": "code",
     "collapsed": false,
     "input": [
      "lmc_orich = get_orich_stars(w1[lmc],w2[lmc],w3[lmc],w4[lmc])\n",
      "lmc_crich = get_crich_stars(w1[lmc],w2[lmc],w3[lmc],w4[lmc])\n",
      "bulge_orich = get_orich_stars(w1[bulge],w2[bulge],w3[bulge],w4[bulge])\n",
      "bulge_crich = get_crich_stars(w1[bulge],w2[bulge],w3[bulge],w4[bulge])\n"
     ],
     "language": "python",
     "metadata": {},
     "outputs": [],
     "prompt_number": 21
    },
    {
     "cell_type": "code",
     "collapsed": false,
     "input": [
      "print \"Total LMC stars: %i\" % len(lmc)\n",
      "print \"Total Bulge stars: %i\" % len(bulge)\n",
      "print \"\\n\"\n",
      "print \"Total LMC C-rich percentage: %.2f%%\" % (float(len(lmc_crich))/len(lmc)*100)\n",
      "print \"Total LMC O-rich percentage: %.2f%%\" % (float(len(lmc_orich))/len(lmc)*100)\n",
      "print \"Total Bulge C-rich percentage: %.2f%%\" % (float(len(bulge_crich))/len(bulge)*100)\n",
      "print \"Total Bulge O-rich percentage: %.2f%%\" % (float(len(bulge_orich))/len(bulge)*100)\n"
     ],
     "language": "python",
     "metadata": {},
     "outputs": [
      {
       "output_type": "stream",
       "stream": "stdout",
       "text": [
        "Total LMC stars: 2491\n",
        "Total Bulge stars: 1204\n",
        "\n",
        "\n",
        "Total LMC C-rich percentage: 23.69%\n",
        "Total LMC O-rich percentage: 9.35%\n",
        "Total Bulge C-rich percentage: 0.17%\n",
        "Total Bulge O-rich percentage: 22.67%\n"
       ]
      }
     ],
     "prompt_number": 22
    },
    {
     "cell_type": "code",
     "collapsed": false,
     "input": [
      "5*np.log10(7.73E3)-5"
     ],
     "language": "python",
     "metadata": {},
     "outputs": [
      {
       "metadata": {},
       "output_type": "pyout",
       "prompt_number": 23,
       "text": [
        "14.440897469591626"
       ]
      }
     ],
     "prompt_number": 23
    },
    {
     "cell_type": "code",
     "collapsed": false,
     "input": [],
     "language": "python",
     "metadata": {},
     "outputs": []
    }
   ],
   "metadata": {}
  }
 ]
}