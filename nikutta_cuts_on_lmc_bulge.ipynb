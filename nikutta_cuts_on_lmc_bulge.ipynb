{
 "metadata": {
  "name": ""
 },
 "nbformat": 3,
 "nbformat_minor": 0,
 "worksheets": [
  {
   "cells": [
    {
     "cell_type": "code",
     "collapsed": false,
     "input": [
      "from sklearn.mixture import GMM\n",
      "from scipy import linalg\n",
      "from scipy.stats import norm\n",
      "import matplotlib\n",
      "from matplotlib.patches import Ellipse\n",
      "from pandas import DataFrame\n",
      "import pandas as pd\n",
      "\n",
      "%matplotlib inline\n",
      "import matplotlib.pyplot as plt\n",
      "import numpy as np\n",
      "import os\n",
      "\n",
      "matplotlib.rcParams['ps.useafm'] = True\n",
      "matplotlib.rcParams['pdf.use14corefonts'] = True\n",
      "matplotlib.rcParams['text.usetex'] = True\n",
      "\n",
      "os.chdir('../scripts')"
     ],
     "language": "python",
     "metadata": {},
     "outputs": [],
     "prompt_number": 67
    },
    {
     "cell_type": "code",
     "collapsed": false,
     "input": [
      "f3 = '../selected_known_agbs/known_agbs_selected.dat'\n",
      "alldata = np.loadtxt(f3, usecols = (range(29)), unpack = True)"
     ],
     "language": "python",
     "metadata": {},
     "outputs": [],
     "prompt_number": 68
    },
    {
     "cell_type": "code",
     "collapsed": false,
     "input": [
      "catid,ra,decl,gall,galb,w1,w2,w3,w4,w1err,w2err,w3err,w4err,w1snr,w2snr,w3snr,w4snr,j,h,k,jerr,herr,kerr,mrad,coljk,colk3,col12,col23,col34 = alldata"
     ],
     "language": "python",
     "metadata": {},
     "outputs": [],
     "prompt_number": 69
    },
    {
     "cell_type": "code",
     "collapsed": false,
     "input": [
      "## Define some functions\n",
      "def get_lmc_stars(ra,decl,gall,galb):\n",
      "    lmc_ra = 80.8917\n",
      "    lmc_dec = -69.7561\n",
      "    n_deg = 5.\n",
      "    DM_lmc = 18.32\n",
      "    \n",
      "    rad = ((ra - lmc_ra)/3.5)**2. + ((decl - lmc_dec)/1.5)**2.\n",
      "    lmc = np.where((rad <= n_deg) & (galb < -20))[0]\n",
      "    return lmc\n",
      "   \n",
      "def get_bulge_stars(gall,galb):\n",
      "    DM_bulge = 14.52\n",
      "    glons = gall\n",
      "    glons[glons > 180] = glons[glons > 180] - 360\n",
      "    bulge = np.where((abs(glons) < 10) & (abs(galb) > 1) & (abs(galb) < 5))[0]\n",
      "    return bulge\n",
      "\n",
      "def get_orich_stars(w1,w2,w3,w4):\n",
      "    col12 = w1-w2\n",
      "    col23 = w2-w3\n",
      "    col34 = w3-w4\n",
      "    \n",
      "    fullcut = np.where((col12 < 2.) & (col12 > 0.2) & (col23 > 0.4) & (col23 < 2.2) & (col34 > 0) &\n",
      "\t\t\t\t(col34 < 1.3) & (col34 > 0.722*col23 - 0.289))[0]\n",
      "    \n",
      "    return fullcut\n",
      "\n",
      "def get_crich_stars(w1,w2,w3,w4):\n",
      "    col12 = w1-w2\n",
      "    col23 = w2-w3\n",
      "    col34 = w3-w4\n",
      "\n",
      "    fullcut = np.where((col12 > 0.629*col23 - 0.198) & (col12 < 0.629*col23 + 0.359) &\n",
      "\t\t\t\t(col34 > 0.722*col23 - 0.911) & (col34 < 0.722*col23 - 0.289))[0]\n",
      "\n",
      "    return fullcut"
     ],
     "language": "python",
     "metadata": {},
     "outputs": [],
     "prompt_number": 70
    },
    {
     "cell_type": "code",
     "collapsed": false,
     "input": [
      "lmc = get_lmc_stars(ra, decl, gall, galb)\n",
      "bulge = get_bulge_stars(gall, galb)"
     ],
     "language": "python",
     "metadata": {},
     "outputs": [],
     "prompt_number": 71
    },
    {
     "cell_type": "code",
     "collapsed": false,
     "input": [
      "lmc_orich = get_orich_stars(w1[lmc],w2[lmc],w3[lmc],w4[lmc])\n",
      "lmc_crich = get_crich_stars(w1[lmc],w2[lmc],w3[lmc],w4[lmc])\n",
      "bulge_orich = get_orich_stars(w1[bulge],w2[bulge],w3[bulge],w4[bulge])\n",
      "bulge_crich = get_crich_stars(w1[bulge],w2[bulge],w3[bulge],w4[bulge])\n"
     ],
     "language": "python",
     "metadata": {},
     "outputs": [],
     "prompt_number": 72
    },
    {
     "cell_type": "code",
     "collapsed": false,
     "input": [
      "print \"Total LMC stars: %i\" % len(lmc)\n",
      "print \"Total Bulge stars: %i\" % len(bulge)\n",
      "print \"\\n\"\n",
      "print \"Total LMC C-rich percentage: %.2f%%\" % (float(len(lmc_crich))/len(lmc)*100)\n",
      "print \"Total LMC O-rich percentage: %.2f%%\" % (float(len(lmc_orich))/len(lmc)*100)\n",
      "print \"Total Bulge C-rich percentage: %.2f%%\" % (float(len(bulge_crich))/len(bulge)*100)\n",
      "print \"Total Bulge O-rich percentage: %.2f%%\" % (float(len(bulge_orich))/len(bulge)*100)\n"
     ],
     "language": "python",
     "metadata": {},
     "outputs": [
      {
       "output_type": "stream",
       "stream": "stdout",
       "text": [
        "Total LMC stars: 2491\n",
        "Total Bulge stars: 1204\n",
        "\n",
        "\n",
        "Total LMC C-rich percentage: 23.69%\n",
        "Total LMC O-rich percentage: 9.35%\n",
        "Total Bulge C-rich percentage: 0.17%\n",
        "Total Bulge O-rich percentage: 22.67%\n"
       ]
      }
     ],
     "prompt_number": 73
    },
    {
     "cell_type": "markdown",
     "metadata": {},
     "source": [
      "We need to get the Nikutta-classified AGB candidates into separate files and have their absolute magnitudes calculated."
     ]
    },
    {
     "cell_type": "code",
     "collapsed": false,
     "input": [
      "# column titles: wiseid,ra,decl,gall,galb\n",
      "#                w1,w2,w3,w4\n",
      "#                w1err,w2err,w3err,w4err\n",
      "#                w1snr,w2snr,w3snr,w4snr\n",
      "#                pmra,pmdec,sigpmra,sigpmdec\n",
      "#                j,h,k,jerr,herr,kerr\n",
      "\n",
      "infile_dir = '/Users/Nick/Documents/AGBstuff/workstation/allwise_reboot/allwise/'\n",
      "infile = infile_dir+'agbcandidates_ALLWISE.dat'\n",
      "candidates_data = np.loadtxt(infile, unpack=True, usecols=(range(1,27)))"
     ],
     "language": "python",
     "metadata": {},
     "outputs": [],
     "prompt_number": 74
    },
    {
     "cell_type": "code",
     "collapsed": false,
     "input": [
      "ra,decl,gall,galb,w1,w2,w3,w4,w1err,w2err,w3err,w4err,w1snr,w2snr,w3snr,w4snr,pmra,pmdec,sigpmra,sigpmdec,j,h,k,jerr,herr,kerr = candidates_data\n",
      "cands_coljk = j-k\n",
      "cands_colk3 = k-w3\n",
      "cands_col12 = w1-w2\n",
      "cands_col23 = w2-w3\n",
      "cands_col34 = w3-w4\n",
      "\n",
      "wid = np.loadtxt(infile, dtype='S20')"
     ],
     "language": "python",
     "metadata": {},
     "outputs": [],
     "prompt_number": 75
    },
    {
     "cell_type": "code",
     "collapsed": false,
     "input": [
      "outfile_dir = infile_dir\n",
      "outfile1 = outfile_dir + 'agbcandidates_ALLWISE_nikutta_orich.dat'\n",
      "outfile2 = outfile_dir + 'agbcandidates_ALLWISE_nikutta_crich.dat'"
     ],
     "language": "python",
     "metadata": {},
     "outputs": [],
     "prompt_number": 76
    },
    {
     "cell_type": "code",
     "collapsed": false,
     "input": [
      "orich = get_orich_stars(w1,w2,w3,w4)\n",
      "crich = get_crich_stars(w1,w2,w3,w4)"
     ],
     "language": "python",
     "metadata": {},
     "outputs": [],
     "prompt_number": 77
    },
    {
     "cell_type": "code",
     "collapsed": false,
     "input": [
      "plt.scatter(cands_col23[crich], cands_col34[crich], s=1 ,edgecolor='None',c='k')\n",
      "plt.show()"
     ],
     "language": "python",
     "metadata": {},
     "outputs": [
      {
       "metadata": {},
       "output_type": "display_data",
       "png": "[encoded data removed]",
       "text": [
        "<matplotlib.figure.Figure at 0x1267d44d0>"
       ]
      }
     ],
     "prompt_number": 78
    },
    {
     "cell_type": "code",
     "collapsed": false,
     "input": [
      "def spectype_relation(colk3,col12,col23,spec_class):\n",
      "    absw1 = np.zeros((len(colk3),3))\n",
      "\n",
      "    orich = np.array([[-9.15,0.02],[-9.13,0.05],[-9.00,0.09]])\n",
      "    crich = np.array([[-9.16,0.03],[-9.46,0.42],[-9.33,0.18]])\n",
      "\n",
      "    xvars = np.array([colk3,col12,col23])\n",
      "    \n",
      "    for ii in range(3):\n",
      "        for jj in range(len(colk3)):\n",
      "            if spec_class == \"orich\":\n",
      "                absw1[jj,ii] = orich[ii,0] + orich[ii,1]*xvars[ii,jj]## w1 vs colk3\n",
      "                \n",
      "            elif spec_class == \"crich\":\n",
      "                absw1[jj,ii] = crich[ii,0] + crich[ii,1]*xvars[ii,jj]## w1 vs colk3\n",
      "            \n",
      "    return absw1"
     ],
     "language": "python",
     "metadata": {},
     "outputs": [],
     "prompt_number": 79
    },
    {
     "cell_type": "code",
     "collapsed": false,
     "input": [],
     "language": "python",
     "metadata": {},
     "outputs": [],
     "prompt_number": 79
    },
    {
     "cell_type": "code",
     "collapsed": false,
     "input": [
      "absw1_orich = spectype_relation(cands_colk3[orich],cands_col12[orich],cands_col23[orich],\"orich\").mean(axis=1)\n",
      "absw1_crich = spectype_relation(cands_colk3[crich],cands_col12[crich],cands_col23[crich],\"crich\").mean(axis=1)"
     ],
     "language": "python",
     "metadata": {},
     "outputs": [],
     "prompt_number": 80
    },
    {
     "cell_type": "code",
     "collapsed": false,
     "input": [
      "len(absw1_orich.mean(axis=1))"
     ],
     "language": "python",
     "metadata": {},
     "outputs": [
      {
       "ename": "ValueError",
       "evalue": "'axis' entry is out of bounds",
       "output_type": "pyerr",
       "traceback": [
        "\u001b[0;31m---------------------------------------------------------------------------\u001b[0m\n\u001b[0;31mValueError\u001b[0m                                Traceback (most recent call last)",
        "\u001b[0;32m<ipython-input-81-141ed469fb91>\u001b[0m in \u001b[0;36m<module>\u001b[0;34m()\u001b[0m\n\u001b[0;32m----> 1\u001b[0;31m \u001b[0mlen\u001b[0m\u001b[0;34m(\u001b[0m\u001b[0mabsw1_orich\u001b[0m\u001b[0;34m.\u001b[0m\u001b[0mmean\u001b[0m\u001b[0;34m(\u001b[0m\u001b[0maxis\u001b[0m\u001b[0;34m=\u001b[0m\u001b[0;36m1\u001b[0m\u001b[0;34m)\u001b[0m\u001b[0;34m)\u001b[0m\u001b[0;34m\u001b[0m\u001b[0m\n\u001b[0m",
        "\u001b[0;32m/Users/Nick/anaconda/lib/python2.7/site-packages/numpy/core/_methods.pyc\u001b[0m in \u001b[0;36m_mean\u001b[0;34m(a, axis, dtype, out, keepdims)\u001b[0m\n\u001b[1;32m     49\u001b[0m     \u001b[0;32melse\u001b[0m\u001b[0;34m:\u001b[0m\u001b[0;34m\u001b[0m\u001b[0m\n\u001b[1;32m     50\u001b[0m         ret = um.add.reduce(arr, axis=axis, dtype=dtype,\n\u001b[0;32m---> 51\u001b[0;31m                             out=out, keepdims=keepdims)\n\u001b[0m\u001b[1;32m     52\u001b[0m     \u001b[0mrcount\u001b[0m \u001b[0;34m=\u001b[0m \u001b[0m_count_reduce_items\u001b[0m\u001b[0;34m(\u001b[0m\u001b[0marr\u001b[0m\u001b[0;34m,\u001b[0m \u001b[0maxis\u001b[0m\u001b[0;34m)\u001b[0m\u001b[0;34m\u001b[0m\u001b[0m\n\u001b[1;32m     53\u001b[0m     \u001b[0;32mif\u001b[0m \u001b[0misinstance\u001b[0m\u001b[0;34m(\u001b[0m\u001b[0mret\u001b[0m\u001b[0;34m,\u001b[0m \u001b[0mmu\u001b[0m\u001b[0;34m.\u001b[0m\u001b[0mndarray\u001b[0m\u001b[0;34m)\u001b[0m\u001b[0;34m:\u001b[0m\u001b[0;34m\u001b[0m\u001b[0m\n",
        "\u001b[0;31mValueError\u001b[0m: 'axis' entry is out of bounds"
       ]
      }
     ],
     "prompt_number": 81
    },
    {
     "cell_type": "code",
     "collapsed": false,
     "input": [
      "# column titles: ra,decl,gall,galb\n",
      "#                w1,w2,w3,w4\n",
      "#                w1err,w2err,w3err,w4err\n",
      "#                w1snr,w2snr,w3snr,w4snr\n",
      "#                pmra,pmdec,sigpmra,sigpmdec\n",
      "#                j,h,k,jerr,herr,kerr,abs_w1\n",
      "fmt = \"%i %g %g %g %g %g %g %g %g %g %g %g %g %g %g %g %g %g %g %g %g %g %g %g %g %g %g %g %g %g %g %g %g\\n\"\n",
      "\n",
      "fout = open(outfile1,'w')\n",
      "for ii in range(len(absw1_orich)):\n",
      "    fout.write(fmt % (ii,ra[orich][ii],decl[orich][ii],gall[orich][ii],galb[orich][ii],w1[orich][ii],w2[orich][ii],w3[orich][ii],w4[orich][ii],w1err[orich][ii],w2err[orich][ii],w3err[orich][ii],w4err[orich][ii],w1snr[orich][ii],w2snr[orich][ii],w3snr[orich][ii],w4snr[orich][ii],pmra[orich][ii],pmdec[orich][ii],sigpmra[orich][ii],sigpmdec[orich][ii],j[orich][ii],h[orich][ii],k[orich][ii],jerr[orich][ii],herr[orich][ii],kerr[orich][ii],cands_coljk[orich][ii], cands_colk3[orich][ii], cands_col12[orich][ii], cands_col23[orich][ii], cands_col34[orich][ii], absw1_orich[ii]))\n",
      "fout.close()\n",
      "\n",
      "fout = open(outfile2,'w')\n",
      "for ii in range(len(absw1_crich)):\n",
      "    fout.write(fmt % (ii,ra[crich][ii],decl[crich][ii],gall[crich][ii],galb[crich][ii],w1[crich][ii],w2[crich][ii],w3[crich][ii],w4[crich][ii],w1err[crich][ii],w2err[crich][ii],w3err[crich][ii],w4err[crich][ii],w1snr[crich][ii],w2snr[crich][ii],w3snr[crich][ii],w4snr[crich][ii],pmra[crich][ii],pmdec[crich][ii],sigpmra[crich][ii],sigpmdec[crich][ii],j[crich][ii],h[crich][ii],k[crich][ii],jerr[crich][ii],herr[crich][ii],kerr[crich][ii],cands_coljk[crich][ii], cands_colk3[crich][ii], cands_col12[crich][ii], cands_col23[crich][ii], cands_col34[crich][ii], absw1_crich[ii]))\n",
      "fout.close()\n",
      "\n"
     ],
     "language": "python",
     "metadata": {},
     "outputs": [],
     "prompt_number": 87
    },
    {
     "cell_type": "code",
     "collapsed": false,
     "input": [],
     "language": "python",
     "metadata": {},
     "outputs": [
      {
       "metadata": {},
       "output_type": "pyout",
       "prompt_number": 85,
       "text": [
        "45.93"
       ]
      }
     ],
     "prompt_number": 85
    },
    {
     "cell_type": "code",
     "collapsed": false,
     "input": [],
     "language": "python",
     "metadata": {},
     "outputs": []
    }
   ],
   "metadata": {}
  }
 ]
}