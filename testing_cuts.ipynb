{
 "metadata": {
  "name": ""
 },
 "nbformat": 3,
 "nbformat_minor": 0,
 "worksheets": [
  {
   "cells": [
    {
     "cell_type": "code",
     "collapsed": false,
     "input": [
      "import numpy as np\n",
      "from sklearn.mixture import GMM\n",
      "from scipy import linalg\n",
      "from scipy.stats import norm\n",
      "import matplotlib.pyplot as plt\n",
      "%matplotlib inline\n",
      "import os"
     ],
     "language": "python",
     "metadata": {},
     "outputs": [],
     "prompt_number": 1
    },
    {
     "cell_type": "code",
     "collapsed": false,
     "input": [
      "indir = '/Users/Nick/Documents/AGBstuff/workstation/allwise_reboot/allwise/'\n",
      "mydata = np.loadtxt(indir+\"agbs_candidates_with_all_attributes.dat\",usecols=range(1,45),unpack=True)\n",
      "\n",
      "RA = mydata[0]\n",
      "Dec = mydata[1]\n",
      "glong = mydata[2]\n",
      "glat = mydata[3]\n",
      "W1 = mydata[4]\n",
      "W2 = mydata[5]\n",
      "W3 = mydata[6]\n",
      "W4 = mydata[7]\n",
      "pmRA = mydata[16]\n",
      "pmDec = mydata[17]\n",
      "pmRAErr = mydata[18]\n",
      "pmDecErr = mydata[19]\n",
      "J = mydata[20]\n",
      "H = mydata[21]\n",
      "K = mydata[22]\n",
      "MW1 = mydata[31]   # absolute mag in W1 band\n",
      "AV = mydata[33]    # V extinction \n",
      "D = mydata[42]     # distance in kpc\n",
      "stype = mydata[43]  # 0 for O and 1 for C \n",
      "JK = J-K\n",
      "KW3 = K-W3\n",
      "W12 = W1-W2\n",
      "W23 = W2-W3\n",
      "W34 = W3-W4"
     ],
     "language": "python",
     "metadata": {},
     "outputs": [],
     "prompt_number": 2
    },
    {
     "cell_type": "code",
     "collapsed": false,
     "input": [
      "max(W34)"
     ],
     "language": "python",
     "metadata": {},
     "outputs": [
      {
       "metadata": {},
       "output_type": "pyout",
       "prompt_number": 5,
       "text": [
        "3.109"
       ]
      }
     ],
     "prompt_number": 5
    },
    {
     "cell_type": "code",
     "collapsed": false,
     "input": [
      "max(-0.83*W23 + 3.37)"
     ],
     "language": "python",
     "metadata": {},
     "outputs": [
      {
       "metadata": {},
       "output_type": "pyout",
       "prompt_number": 6,
       "text": [
        "3.1201700000000017"
       ]
      }
     ],
     "prompt_number": 6
    },
    {
     "cell_type": "code",
     "collapsed": false,
     "input": [
      "min(W23)"
     ],
     "language": "python",
     "metadata": {},
     "outputs": [
      {
       "metadata": {},
       "output_type": "pyout",
       "prompt_number": 7,
       "text": [
        "0.30099999999999838"
       ]
      }
     ],
     "prompt_number": 7
    },
    {
     "cell_type": "code",
     "collapsed": false,
     "input": [
      "min(W12)"
     ],
     "language": "python",
     "metadata": {},
     "outputs": [
      {
       "metadata": {},
       "output_type": "pyout",
       "prompt_number": 8,
       "text": [
        "-1.1059999999999999"
       ]
      }
     ],
     "prompt_number": 8
    },
    {
     "cell_type": "code",
     "collapsed": false,
     "input": [
      "sum(W12 > 0.3)"
     ],
     "language": "python",
     "metadata": {},
     "outputs": [
      {
       "metadata": {},
       "output_type": "pyout",
       "prompt_number": 9,
       "text": [
        "21885"
       ]
      }
     ],
     "prompt_number": 9
    },
    {
     "cell_type": "code",
     "collapsed": false,
     "input": [],
     "language": "python",
     "metadata": {},
     "outputs": []
    }
   ],
   "metadata": {}
  }
 ]
}