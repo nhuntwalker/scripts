{
 "metadata": {
  "name": ""
 },
 "nbformat": 3,
 "nbformat_minor": 0,
 "worksheets": [
  {
   "cells": [
    {
     "cell_type": "heading",
     "level": 3,
     "metadata": {},
     "source": [
      "Checking my sample with what Zeljko had sent me back in April"
     ]
    },
    {
     "cell_type": "markdown",
     "metadata": {},
     "source": [
      "We've been plagued with problems with this damnable XYZ map because of some irregular elongation in the direction of the bulge. This is going through a prescription you sent me back in April to try and diagnose the issue."
     ]
    },
    {
     "cell_type": "code",
     "collapsed": false,
     "input": [
      "# from sklearn.mixture import GMM\n",
      "# from scipy import linalg\n",
      "# from scipy.stats import norm\n",
      "import matplotlib\n",
      "# from matplotlib.patches import Ellipse\n",
      "\n",
      "%matplotlib inline\n",
      "import matplotlib.pyplot as plt\n",
      "import numpy as np\n",
      "import os\n",
      "\n",
      "matplotlib.rcParams['ps.useafm'] = True\n",
      "matplotlib.rcParams['pdf.use14corefonts'] = True\n",
      "matplotlib.rcParams['text.usetex'] = True\n",
      "\n",
      "os.chdir('../scripts')"
     ],
     "language": "python",
     "metadata": {},
     "outputs": [],
     "prompt_number": 1
    },
    {
     "cell_type": "markdown",
     "metadata": {},
     "source": [
      "Read in candidates. Note, while they have had their dust extinction calculated via galfastDust, the original apparent magnitudes have remained intact"
     ]
    },
    {
     "cell_type": "code",
     "collapsed": false,
     "input": [
      "## each infile has the following structure:\n",
      "##  {'catid':catid[lo:hi], 'ra':ra[lo:hi], 'decl':decl[lo:hi],\n",
      "#                'gall':gall[lo:hi], 'galb':galb[lo:hi], 'w1':w1[lo:hi], 'w2':w2[lo:hi],\n",
      "#                'w3':w3[lo:hi], 'w4':w4[lo:hi], 'w1err':w1err[lo:hi], 'w2err':w2err[lo:hi],\n",
      "#                'w3err':w3err[lo:hi], 'w4err':w4err[lo:hi], 'w1snr':w1snr[lo:hi],\n",
      "#                'w2snr':w2snr[lo:hi], 'w3snr':w3snr[lo:hi], 'w4snr':w4snr[lo:hi],\n",
      "#                'j':j[lo:hi], 'h':h[lo:hi], 'k':k[lo:hi], 'jerr':jerr[lo:hi], 'herr':herr[lo:hi],\n",
      "#                'kerr':kerr[lo:hi], 'coljk':coljk[lo:hi],\n",
      "#                'colk3':colk3[lo:hi], 'col12':col12[lo:hi], 'col23':col23[lo:hi],\n",
      "#                'col34':col34[lo:hi], 'absw1':absw1[lo:hi], 'ebvs':ebvs}\n",
      "\n",
      "data_dir = '/Users/Nick/Documents/AGBstuff/workstation/allwise_reboot/allwise/candidates_condor/candidate_outs/'\n",
      "infiles = [data_dir+f for f in os.listdir(data_dir) if f.endswith('.dat')]\n",
      "\n",
      "n = len(infiles)\n",
      "\n",
      "wcnt = []\n",
      "ra = []\n",
      "decl = []\n",
      "gall = []\n",
      "galb = []\n",
      "w1 = []\n",
      "w2 = []\n",
      "w3 = []\n",
      "w4 = []\n",
      "w1err = []\n",
      "w2err = []\n",
      "w3err = []\n",
      "w4err = []\n",
      "w1snr = []\n",
      "w2snr = []\n",
      "w3snr = []\n",
      "w4snr = []\n",
      "pmra = []\n",
      "pmdec = []\n",
      "sigpmra = []\n",
      "sigpmdec = []\n",
      "j = []\n",
      "h = []\n",
      "k = []\n",
      "jerr = []\n",
      "herr = []\n",
      "kerr = []\n",
      "coljk = []\n",
      "colk3 = []\n",
      "col12 = []\n",
      "col23 = []\n",
      "col34 = []\n",
      "absw1 = []\n",
      "ebvs = []\n",
      "\n",
      "for i in range(len(infiles)):\n",
      "    data = np.loadtxt(infiles[i], unpack=True)\n",
      "    if len(data) > 0:\n",
      "        wcnt.append(data[0])\n",
      "        ra.append(data[1])\n",
      "        decl.append(data[2])\n",
      "        gall.append(data[3])\n",
      "        galb.append(data[4])\n",
      "        w1.append(data[5])\n",
      "        w2.append(data[6])\n",
      "        w3.append(data[7])\n",
      "        w4.append(data[8])\n",
      "        w1err.append(data[9])\n",
      "        w2err.append(data[10])\n",
      "        w3err.append(data[11])\n",
      "        w4err.append(data[12])\n",
      "        w1snr.append(data[13])\n",
      "        w2snr.append(data[14])\n",
      "        w3snr.append(data[15])\n",
      "        w4snr.append(data[16])\n",
      "        pmra.append(data[17])\n",
      "        pmdec.append(data[18])\n",
      "        sigpmra.append(data[19])\n",
      "        sigpmdec.append(data[20])\n",
      "        j.append(data[21])\n",
      "        h.append(data[22])\n",
      "        k.append(data[23])\n",
      "        jerr.append(data[24])\n",
      "        herr.append(data[25])\n",
      "        kerr.append(data[26])\n",
      "        coljk.append(data[27])\n",
      "        colk3.append(data[28])\n",
      "        col12.append(data[29])\n",
      "        col23.append(data[30])\n",
      "        col34.append(data[31])\n",
      "        absw1.append(data[32])\n",
      "        ebvs.append(data[33])\n",
      "    \n",
      "wcnt = np.concatenate(wcnt)\n",
      "ra = np.concatenate(ra)\n",
      "decl = np.concatenate(decl)\n",
      "gall = np.concatenate(gall)\n",
      "galb = np.concatenate(galb)\n",
      "w1 = np.concatenate(w1)\n",
      "w2 = np.concatenate(w2)\n",
      "w3 = np.concatenate(w3)\n",
      "w4 = np.concatenate(w4)\n",
      "w1err = np.concatenate(w1err)\n",
      "w2err = np.concatenate(w2err)\n",
      "w3err = np.concatenate(w3err)\n",
      "w4err = np.concatenate(w4err)\n",
      "w1snr = np.concatenate(w1snr)\n",
      "w2snr = np.concatenate(w2snr)\n",
      "w3snr = np.concatenate(w3snr)\n",
      "w4snr = np.concatenate(w4snr)\n",
      "j = np.concatenate(j)\n",
      "h = np.concatenate(h)\n",
      "k = np.concatenate(k)\n",
      "jerr = np.concatenate(jerr)\n",
      "herr = np.concatenate(herr)\n",
      "kerr = np.concatenate(kerr)\n",
      "coljk = np.concatenate(coljk)\n",
      "colk3 = np.concatenate(colk3)\n",
      "col12 = np.concatenate(col12)\n",
      "col23 = np.concatenate(col23)\n",
      "col34 = np.concatenate(col34)\n",
      "absw1 = np.concatenate(absw1)\n",
      "ebvs = np.concatenate(ebvs)\n",
      "\n",
      "col13 = w1-w3\n",
      "col14 = w1-w4\n",
      "\n",
      "coeff = [0.34,0.21,0.15,0.11,0.09,0.13]\n",
      "Aw1 = coeff[3]*2.751*ebvs\n",
      "DM = w1 - absw1 - Aw1\n",
      "dist = 10**((DM+5.)/5.)/1E3\n",
      "\n",
      "glon = gall*np.pi/180.\n",
      "glat = galb*np.pi/180.\n",
      "\n",
      "dbulge = 8.0 #kpc\n",
      "\n",
      "x = dbulge - dist*np.cos(glon)*np.cos(glat)\n",
      "y = -dist*np.sin(glon)*np.cos(glat)\n",
      "z = dist*np.sin(glat)\n",
      "\n",
      "r = np.sqrt(x**2 + y**2)\n"
     ],
     "language": "python",
     "metadata": {},
     "outputs": [
      {
       "output_type": "stream",
       "stream": "stderr",
       "text": [
        "/Users/Nick/anaconda/lib/python2.7/site-packages/numpy/lib/npyio.py:795: UserWarning: loadtxt: Empty input file: \"/Users/Nick/Documents/AGBstuff/workstation/allwise_reboot/allwise/candidates_condor/candidate_outs/ebvout_98.dat\"\n",
        "  warnings.warn('loadtxt: Empty input file: \"%s\"' % fname)\n",
        "/Users/Nick/anaconda/lib/python2.7/site-packages/numpy/lib/npyio.py:795: UserWarning: loadtxt: Empty input file: \"/Users/Nick/Documents/AGBstuff/workstation/allwise_reboot/allwise/candidates_condor/candidate_outs/ebvout_99.dat\"\n",
        "  warnings.warn('loadtxt: Empty input file: \"%s\"' % fname)\n"
       ]
      }
     ],
     "prompt_number": 2
    },
    {
     "cell_type": "code",
     "collapsed": false,
     "input": [
      "gall[gall > 180] = gall[gall > 180] - 360."
     ],
     "language": "python",
     "metadata": {},
     "outputs": [],
     "prompt_number": 3
    },
    {
     "cell_type": "markdown",
     "metadata": {},
     "source": [
      "Split into O- and C-rich populations as dictated by the text"
     ]
    },
    {
     "cell_type": "code",
     "collapsed": false,
     "input": [
      "orich = np.where((col12 < 2.0) & (col12 > 0.2) & (col23 < 2.8) & (col23 > 0.4)\n",
      "                 & (col34 > 0.3) & (col34 < 1.5) & (0.5*col23 - col34 + 0.1  < 0))\n",
      "\n",
      "D1 = 0.75*col23 - col12 - 0.1\n",
      "D2 = 0.50*col23 - col34 - 0.2\n",
      "Dc = np.sqrt(D1**2 + D2**2)\n",
      "\n",
      "crich = np.where((col12 < 2.5) & (col12 > 0.2) & (col23 < 4.0) & (col23 > 0.0)\n",
      "                 & (col34 > 0.0) & (col34 < 1.5) & (D1 < 0.3) & (D1 > -0.3)\n",
      "                 & (Dc < 0.5) & (Dc > 0.0))"
     ],
     "language": "python",
     "metadata": {},
     "outputs": [],
     "prompt_number": 4
    },
    {
     "cell_type": "markdown",
     "metadata": {},
     "source": [
      "Reproduce stuff noted in Section 3.2. This very next cell is just a function to do all those special little cuts to confirm the median W1 and median W1-W4 of O-rich stars in the direction of the bulge."
     ]
    },
    {
     "cell_type": "code",
     "collapsed": false,
     "input": [
      "def starwork(gall,galb,j,h,k,w1,w2,w3,w4,col12,col23,col34,col13,col14):\n",
      "    firstcut = np.where((abs(gall) < 2.) & (abs(galb) < 10) & (abs(galb) > 3))\n",
      "    med1 = np.median(w1[firstcut]) #median of 6.8305 for Orich, 7.326 for Crich\n",
      "    print 'Median W1: %f' % med1\n",
      "    \n",
      "    med2 = np.median(col14[firstcut]) #median of 2.074 for Orich, 1.560 for Crich\n",
      "    print 'Median W1-W4: %f' % med2\n"
     ],
     "language": "python",
     "metadata": {},
     "outputs": [],
     "prompt_number": 7
    },
    {
     "cell_type": "code",
     "collapsed": false,
     "input": [
      "starwork(gall[orich],galb[orich],j[orich],h[orich],k[orich],w1[orich],w2[orich],w3[orich],w4[orich],col12[orich],col23[orich],col34[orich],col13[orich],col14[orich])\n",
      "# starwork(gall[crich],galb[crich],j[crich],h[crich],k[crich],w1[crich],w2[crich],w3[crich],w4[crich],col12[crich],col23[crich],col34[crich],col13[crich],col14[crich])"
     ],
     "language": "python",
     "metadata": {},
     "outputs": [
      {
       "output_type": "stream",
       "stream": "stdout",
       "text": [
        "Median W1: 6.830500\n",
        "Median W1-W4: 2.074000\n"
       ]
      }
     ],
     "prompt_number": 8
    },
    {
     "cell_type": "markdown",
     "metadata": {},
     "source": [
      "The text says the median W1 should be 6.9. It's close enough considering uncertainties and the use of ALLWISE instead of WISE Prelim or WISE All Sky. From considerations of stars in the direction of the bulge, the text notes that the median $M^O_{W1}$ = -7.2. Note that this assumes ZERO DUST in the line of sight to the bulge!\n",
      "\n",
      "Let's do a similar thing for considerations of stars in the LMC, using a distance modulus of 18.32."
     ]
    },
    {
     "cell_type": "code",
     "collapsed": false,
     "input": [
      "def lmc_check(ra,decl,gall,galb,j,h,k,w1,w2,w3,w4,col12,col23,col34,col13,col14,ebvs):\n",
      "    lmc_ra = 80.8917\n",
      "    lmc_dec = -69.7561\n",
      "    DM_lmc = 18.32\n",
      "    \n",
      "    rad = ((ra - lmc_ra)/3.5)**2 + ((decl - lmc_dec)/1.5)**2\n",
      "    firstcut = np.where(rad < 5)\n",
      "    \n",
      "    med1 = np.median(w1[firstcut]) #median of 6.8305 for Orich, 7.326 for Crich\n",
      "    print 'Median W1: %f' % med1\n",
      "    \n",
      "    med2 = np.median(col14[firstcut]) #median of 2.074 for Orich, 1.560 for Crich\n",
      "    print 'Median W1-W4: %f' % med2\n",
      "    \n",
      "    med_ebv = np.median(ebvs[firstcut])\n",
      "    med_Aw1 = med_ebv*2.751*0.11\n",
      "    print 'Median W1 extinction: %f' % med_Aw1\n",
      "    \n",
      "    absw1 = w1[firstcut] - DM_lmc - med_Aw1\n",
      "    print 'Median M_w1: %f' % np.median(absw1)\n",
      "    "
     ],
     "language": "python",
     "metadata": {},
     "outputs": [],
     "prompt_number": 19
    },
    {
     "cell_type": "code",
     "collapsed": false,
     "input": [
      "lmc_check(ra[orich],decl[orich],gall[orich],galb[orich],j[orich],h[orich],k[orich],w1[orich],w2[orich],w3[orich],w4[orich],col12[orich],col23[orich],col34[orich],col13[orich],col14[orich],ebvs[orich])\n"
     ],
     "language": "python",
     "metadata": {},
     "outputs": [
      {
       "output_type": "stream",
       "stream": "stdout",
       "text": [
        "Median W1: 9.513000\n",
        "Median W1-W4: 2.801000\n",
        "Median W1 extinction: 0.127957\n",
        "Median M_w1: -8.934957\n"
       ]
      }
     ],
     "prompt_number": 20
    },
    {
     "cell_type": "code",
     "collapsed": false,
     "input": [
      "np.median(absw1[orich]) # From galfast"
     ],
     "language": "python",
     "metadata": {},
     "outputs": [
      {
       "metadata": {},
       "output_type": "pyout",
       "prompt_number": 21,
       "text": [
        "-9.0519400000000001"
       ]
      }
     ],
     "prompt_number": 21
    },
    {
     "cell_type": "markdown",
     "metadata": {},
     "source": [
      "Values from looking at the LMC are greatly different from looking at the Bulge. Values from calculations done using galfastDust are within the uncertainty of the color-magnitude relationship with W1. \n",
      "\n",
      "Let's produce a map using the cited value for $M_{W1}$, and no dust. "
     ]
    },
    {
     "cell_type": "code",
     "collapsed": false,
     "input": [
      "absw1_o = -7.2\n",
      "# absw1_o = -8.935\n",
      "newdist = 10.**((w1[orich] - absw1_o + 5.)/5.)/1E3 #no dust?!"
     ],
     "language": "python",
     "metadata": {},
     "outputs": [],
     "prompt_number": 44
    },
    {
     "cell_type": "code",
     "collapsed": false,
     "input": [
      "x = dbulge - newdist*np.cos(glon[orich])*np.cos(glat[orich])\n",
      "y = -newdist*np.sin(glon[orich])*np.cos(glat[orich])\n",
      "z = newdist*np.sin(glat[orich])\n",
      "\n",
      "nextcut = np.where((abs(galb[orich]) > 3))"
     ],
     "language": "python",
     "metadata": {},
     "outputs": [],
     "prompt_number": 45
    },
    {
     "cell_type": "code",
     "collapsed": false,
     "input": [
      "plt.figure(figsize=(10,4))\n",
      "plt.subplot(121)\n",
      "plt.scatter(x[nextcut],y[nextcut],s=1,edgecolor='None')\n",
      "plt.xlim(-40,40)\n",
      "plt.xlabel('X')\n",
      "plt.ylabel('Y')\n",
      "plt.ylim(-40,40)\n",
      "\n",
      "plt.subplot(122)\n",
      "plt.hist(x[nextcut],bins=np.linspace(-20,20,301))\n",
      "plt.xlim(-20,20)\n",
      "plt.xlabel('X')\n"
     ],
     "language": "python",
     "metadata": {},
     "outputs": [
      {
       "metadata": {},
       "output_type": "pyout",
       "prompt_number": 46,
       "text": [
        "<matplotlib.text.Text at 0x113ad0c90>"
       ]
      },
      {
       "metadata": {},
       "output_type": "display_data",
       "png": "[encoded data removed]",
       "text": [
        "<matplotlib.figure.Figure at 0x113eda250>"
       ]
      }
     ],
     "prompt_number": 46
    },
    {
     "cell_type": "markdown",
     "metadata": {},
     "source": [
      "Here are the same two plots using the median absolute magnitude from the LMC instead."
     ]
    },
    {
     "cell_type": "code",
     "collapsed": false,
     "input": [
      "# absw1_o = -7.2\n",
      "absw1_o = -8.935\n",
      "newdist = 10.**((w1[orich] - absw1_o + 5.)/5.)/1E3 #no dust?!\n",
      "\n",
      "x = dbulge - newdist*np.cos(glon[orich])*np.cos(glat[orich])\n",
      "y = -newdist*np.sin(glon[orich])*np.cos(glat[orich])\n",
      "z = newdist*np.sin(glat[orich])\n",
      "\n",
      "nextcut = np.where((abs(galb[orich]) > 3))"
     ],
     "language": "python",
     "metadata": {},
     "outputs": [],
     "prompt_number": 47
    },
    {
     "cell_type": "code",
     "collapsed": false,
     "input": [
      "plt.figure(figsize=(10,4))\n",
      "plt.subplot(121)\n",
      "plt.scatter(x[nextcut],y[nextcut],s=1,edgecolor='None')\n",
      "plt.xlim(-40,40)\n",
      "plt.xlabel('X')\n",
      "plt.ylabel('Y')\n",
      "plt.ylim(-40,40)\n",
      "\n",
      "plt.subplot(122)\n",
      "plt.hist(x[nextcut],bins=np.linspace(-20,20,301))\n",
      "plt.xlim(-20,20)\n",
      "plt.xlabel('X')\n"
     ],
     "language": "python",
     "metadata": {},
     "outputs": [
      {
       "metadata": {},
       "output_type": "pyout",
       "prompt_number": 48,
       "text": [
        "<matplotlib.text.Text at 0x1149ff490>"
       ]
      },
      {
       "metadata": {},
       "output_type": "display_data",
       "png": "[encoded data removed]",
       "text": [
        "<matplotlib.figure.Figure at 0x114543050>"
       ]
      }
     ],
     "prompt_number": 48
    },
    {
     "cell_type": "markdown",
     "metadata": {},
     "source": [
      "It's important to know just how much dust we should expect along the line of sight to the bulge. We can estimate that with galfastDust. Assuming $l$ = $b$ = 0, $A_{W1}$ should be..."
     ]
    },
    {
     "cell_type": "code",
     "collapsed": false,
     "input": [
      "import galfastDust as ext"
     ],
     "language": "python",
     "metadata": {},
     "outputs": [],
     "prompt_number": 49
    },
    {
     "cell_type": "code",
     "collapsed": false,
     "input": [
      "DM_arr = np.linspace(0,20,100)\n",
      "dist_arr = 10**((DM_arr + 5)/5.)/1E3\n",
      "gall_arr = np.zeros(len(DM_arr))\n",
      "galb_arr = np.zeros(len(DM_arr))\n",
      "ebvs1 = ext.getDustValue(galb_arr, gall_arr, dist_arr)\n",
      "\n",
      "gall_arr = np.zeros(len(DM_arr))\n",
      "galb_arr = np.zeros(len(DM_arr)) + 1.0 * np.pi/180\n",
      "ebvs2 = ext.getDustValue(galb_arr, gall_arr, dist_arr)\n",
      "\n",
      "gall_arr = np.zeros(len(DM_arr))\n",
      "galb_arr = np.zeros(len(DM_arr)) + 2.0 * np.pi/180\n",
      "ebvs3 = ext.getDustValue(galb_arr, gall_arr, dist_arr)\n",
      "\n",
      "gall_arr = np.zeros(len(DM_arr))\n",
      "galb_arr = np.zeros(len(DM_arr)) + 3.0 * np.pi/180\n",
      "ebvs4 = ext.getDustValue(galb_arr, gall_arr, dist_arr)\n"
     ],
     "language": "python",
     "metadata": {},
     "outputs": [],
     "prompt_number": 64
    },
    {
     "cell_type": "markdown",
     "metadata": {},
     "source": [
      "Just want to show the changes in $A_{W1}$ with galactic latitude"
     ]
    },
    {
     "cell_type": "code",
     "collapsed": false,
     "input": [
      "plt.plot(DM_arr, np.array(ebvs1)*2.751*0.11, color='r')\n",
      "plt.plot(DM_arr, np.array(ebvs2)*2.751*0.11, color='b')\n",
      "plt.plot(DM_arr, np.array(ebvs3)*2.751*0.11, color='g')\n",
      "plt.plot(DM_arr, np.array(ebvs4)*2.751*0.11, color='y')\n",
      "plt.legend(('b = 0','b = 1','b = 2','b = 3'),loc='upper left')\n",
      "\n",
      "plt.plot([14.52,14.52],[0,100],linestyle='--',color='k')\n",
      "plt.xlabel('Distance Modulus')\n",
      "plt.minorticks_on()\n",
      "plt.xlim(0,15)\n",
      "plt.ylim(0,2)\n",
      "plt.ylabel('A_{W1}')\n",
      "plt.show()"
     ],
     "language": "python",
     "metadata": {},
     "outputs": [
      {
       "metadata": {},
       "output_type": "display_data",
       "png": "[encoded data removed]",
       "text": [
        "<matplotlib.figure.Figure at 0x12bf0e850>"
       ]
      }
     ],
     "prompt_number": 70
    },
    {
     "cell_type": "code",
     "collapsed": false,
     "input": [
      "? plt.legend"
     ],
     "language": "python",
     "metadata": {},
     "outputs": [],
     "prompt_number": 69
    },
    {
     "cell_type": "code",
     "collapsed": false,
     "input": [],
     "language": "python",
     "metadata": {},
     "outputs": []
    }
   ],
   "metadata": {}
  }
 ]
}